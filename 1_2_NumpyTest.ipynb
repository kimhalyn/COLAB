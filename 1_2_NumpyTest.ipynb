{
  "nbformat": 4,
  "nbformat_minor": 0,
  "metadata": {
    "colab": {
      "name": "1_2.NumpyTest.ipynb",
      "provenance": [],
      "collapsed_sections": [],
      "authorship_tag": "ABX9TyOTiDK3k2CWp5awCLMfUyHZ",
      "include_colab_link": true
    },
    "kernelspec": {
      "name": "python3",
      "display_name": "Python 3"
    },
    "accelerator": "GPU"
  },
  "cells": [
    {
      "cell_type": "markdown",
      "metadata": {
        "id": "view-in-github",
        "colab_type": "text"
      },
      "source": [
        "<a href=\"https://colab.research.google.com/github/kimhalyn/Colab/blob/main/1_2_NumpyTest.ipynb\" target=\"_parent\"><img src=\"https://colab.research.google.com/assets/colab-badge.svg\" alt=\"Open In Colab\"/></a>"
      ]
    },
    {
      "cell_type": "code",
      "metadata": {
        "colab": {
          "base_uri": "https://localhost:8080/",
          "height": 35
        },
        "id": "T21yBd-ZHo7K",
        "outputId": "0a1c6437-b835-4d27-d2dd-466acd488046"
      },
      "source": [
        "\"\"\"\r\n",
        "날짜: 2021/02/01\r\n",
        "이름: 김하린\r\n",
        "내용: 파이썬 Numpy 수치해석 라이브러리 실습하기\r\n",
        "\"\"\""
      ],
      "execution_count": null,
      "outputs": [
        {
          "output_type": "execute_result",
          "data": {
            "application/vnd.google.colaboratory.intrinsic+json": {
              "type": "string"
            },
            "text/plain": [
              "'\\n날짜: 2021/02/01\\n이름: 김하린\\n내용: 파이썬 Numpy 수치해석 라이브러리 실습하기\\n'"
            ]
          },
          "metadata": {
            "tags": []
          },
          "execution_count": 1
        }
      ]
    },
    {
      "cell_type": "code",
      "metadata": {
        "id": "MJmqJkl2H9EJ"
      },
      "source": [
        "import numpy as np"
      ],
      "execution_count": null,
      "outputs": []
    },
    {
      "cell_type": "code",
      "metadata": {
        "colab": {
          "base_uri": "https://localhost:8080/"
        },
        "id": "CG7jXguCIF8p",
        "outputId": "e91b21c1-3b4f-4d4d-c5fd-93fa85bcde6f"
      },
      "source": [
        "#numpy 자료구조 - 벡터\r\n",
        "v1 = np.array([1,2,3,4,5])\r\n",
        "v2 = np.arange(5)\r\n",
        "v3 = np.arange(10)\r\n",
        "\r\n",
        "print('v1: ', v1)\r\n",
        "print('v2: ', v2)\r\n",
        "print('v3: ', v3)"
      ],
      "execution_count": null,
      "outputs": [
        {
          "output_type": "stream",
          "text": [
            "v1:  [1 2 3 4 5]\n",
            "v2:  [0 1 2 3 4]\n",
            "v3:  [0 1 2 3 4 5 6 7 8 9]\n"
          ],
          "name": "stdout"
        }
      ]
    },
    {
      "cell_type": "code",
      "metadata": {
        "id": "o8f4sF1eIPKY"
      },
      "source": [
        "#0 ~ 1사이에 임의의 실수\r\n",
        "rand1 = np.random.rand(100)\r\n",
        "\r\n",
        "#표준정규분포를 따르는 실수 100개\r\n",
        "rand2 = np.random.randn(100)\r\n",
        "\r\n",
        "#0 ~ 9사이의 임의의 정수\r\n",
        "rand3 = np.random.randint(10)"
      ],
      "execution_count": null,
      "outputs": []
    },
    {
      "cell_type": "code",
      "metadata": {
        "colab": {
          "base_uri": "https://localhost:8080/"
        },
        "id": "tM7gNUliI7O2",
        "outputId": "b164fbfe-9083-449b-b917-141fd644928f"
      },
      "source": [
        "rand1"
      ],
      "execution_count": null,
      "outputs": [
        {
          "output_type": "execute_result",
          "data": {
            "text/plain": [
              "array([0.29271923, 0.49686773, 0.95962637, 0.967901  , 0.10945606,\n",
              "       0.33714032, 0.24886179, 0.84441985, 0.77658866, 0.5224184 ,\n",
              "       0.08085834, 0.7595242 , 0.89580677, 0.98872334, 0.13477866,\n",
              "       0.78767638, 0.45335406, 0.84169001, 0.21157724, 0.80560084,\n",
              "       0.99619777, 0.20075354, 0.25049505, 0.53706316, 0.08783371,\n",
              "       0.67863265, 0.21670565, 0.13642586, 0.31151567, 0.3497725 ,\n",
              "       0.59373299, 0.30148888, 0.55166775, 0.11981634, 0.19671157,\n",
              "       0.71805714, 0.1064891 , 0.62129887, 0.79772163, 0.61074218,\n",
              "       0.03802108, 0.53297002, 0.05728588, 0.42775002, 0.48615777,\n",
              "       0.76008999, 0.03494609, 0.2367889 , 0.81372198, 0.98646577,\n",
              "       0.43163544, 0.58047503, 0.77432097, 0.07757005, 0.94822981,\n",
              "       0.88943492, 0.8872623 , 0.00662991, 0.64668576, 0.99639712,\n",
              "       0.44380323, 0.54141146, 0.27499384, 0.16707751, 0.46061059,\n",
              "       0.4535879 , 0.86090584, 0.68750859, 0.78432734, 0.03097531,\n",
              "       0.77340567, 0.11228691, 0.37324091, 0.79645002, 0.65539658,\n",
              "       0.96935266, 0.86428993, 0.22353086, 0.18043932, 0.02915816,\n",
              "       0.78281407, 0.07926347, 0.09544915, 0.9524137 , 0.41857218,\n",
              "       0.06774537, 0.34473912, 0.78693164, 0.90499831, 0.10560956,\n",
              "       0.85374618, 0.06646094, 0.559732  , 0.21492459, 0.61685824,\n",
              "       0.93868841, 0.05613681, 0.81948984, 0.9768189 , 0.52286638])"
            ]
          },
          "metadata": {
            "tags": []
          },
          "execution_count": 9
        }
      ]
    },
    {
      "cell_type": "code",
      "metadata": {
        "colab": {
          "base_uri": "https://localhost:8080/"
        },
        "id": "91HD7laoJA4Q",
        "outputId": "3febd5d2-a874-4e2f-88b3-f07f459ebbab"
      },
      "source": [
        "rand2"
      ],
      "execution_count": null,
      "outputs": [
        {
          "output_type": "execute_result",
          "data": {
            "text/plain": [
              "array([ 1.10722782,  0.69288964, -0.73584895,  2.03378818, -0.68713736,\n",
              "        1.88451777, -1.28192656,  1.17593558,  1.7605378 ,  0.470854  ,\n",
              "        1.32829918,  0.18125079,  0.24543143, -0.22434616, -2.10003048,\n",
              "       -0.21530789, -0.59528799, -0.94216662, -0.96934962,  0.06358975,\n",
              "       -0.03921869, -1.45768884,  0.61246579, -0.81264091, -0.65617218,\n",
              "       -0.66539108,  0.73277491, -1.00968423, -0.53289521, -1.5933889 ,\n",
              "       -1.15314136,  1.28327378, -0.19987009,  0.60740494, -0.85472309,\n",
              "        0.18257906,  0.1328495 , -0.25224384,  0.17056223,  0.2868928 ,\n",
              "        0.87705853,  0.71660359,  0.83602922, -2.21326365,  1.11518555,\n",
              "       -1.85700888,  0.03742578,  1.21805607,  0.99302743, -0.081016  ,\n",
              "        0.61327495, -1.50294385, -2.56020946, -1.22138614,  1.13765573,\n",
              "        0.06474071, -0.38518444,  0.50624617,  2.18759961,  0.68470033,\n",
              "        0.20240304, -0.85179762,  0.86385115,  1.5746252 ,  0.12399683,\n",
              "        0.71388771, -1.11318007,  0.49374019,  0.73654814, -0.13324176,\n",
              "        0.62207244, -0.32171004, -1.34117055,  0.13209907, -1.37776155,\n",
              "        0.20965228, -0.68352025, -1.428169  ,  0.97136144, -0.87379408,\n",
              "       -0.42473991,  0.4575128 , -1.01202292, -1.11339213, -0.99229406,\n",
              "        0.13357382,  0.63194105,  0.03423041,  0.47552313,  0.09638698,\n",
              "        0.83756851, -0.89797404, -0.3236085 ,  0.42561567, -0.3907989 ,\n",
              "        0.71558256, -0.00472056,  0.52117192,  0.12016209,  0.67342634])"
            ]
          },
          "metadata": {
            "tags": []
          },
          "execution_count": 12
        }
      ]
    },
    {
      "cell_type": "code",
      "metadata": {
        "colab": {
          "base_uri": "https://localhost:8080/"
        },
        "id": "C9xML33TJDFQ",
        "outputId": "f7d52359-bfcc-4adb-ebe7-47e6d6af497e"
      },
      "source": [
        "rand3"
      ],
      "execution_count": null,
      "outputs": [
        {
          "output_type": "execute_result",
          "data": {
            "text/plain": [
              "6"
            ]
          },
          "metadata": {
            "tags": []
          },
          "execution_count": 13
        }
      ]
    },
    {
      "cell_type": "code",
      "metadata": {
        "colab": {
          "base_uri": "https://localhost:8080/"
        },
        "id": "YN80XRkUJGKw",
        "outputId": "5ffc2c77-5113-41bf-e943-9c3fe47bba47"
      },
      "source": [
        "#행렬\r\n",
        "m1 = np.array([[1, 2], [3, 4]])\r\n",
        "print(m1)\r\n",
        "\r\n",
        "m2 = np.array([[1, 2, 3], [4, 5, 6], [7, 8, 9]])\r\n",
        "print(m2)\r\n",
        "\r\n",
        "m3 = np.ones([2, 4])\r\n",
        "print(m3)\r\n",
        "\r\n",
        "m4 = np.zeros([3, 2])\r\n",
        "print(m4)"
      ],
      "execution_count": null,
      "outputs": [
        {
          "output_type": "stream",
          "text": [
            "[[1 2]\n",
            " [3 4]]\n",
            "[[1 2 3]\n",
            " [4 5 6]\n",
            " [7 8 9]]\n",
            "[[1. 1. 1. 1.]\n",
            " [1. 1. 1. 1.]]\n",
            "[[0. 0.]\n",
            " [0. 0.]\n",
            " [0. 0.]]\n"
          ],
          "name": "stdout"
        }
      ]
    },
    {
      "cell_type": "code",
      "metadata": {
        "id": "2zlOrtO3JyP_"
      },
      "source": [
        "#전치행렬 - 행/열을 바꿈\r\n",
        "tm1 = m1.T\r\n",
        "print(tm1)\r\n",
        "\r\n",
        "tm2 = m2. transpose()\r\n",
        "print(tm2)"
      ],
      "execution_count": null,
      "outputs": []
    },
    {
      "cell_type": "code",
      "metadata": {
        "colab": {
          "base_uri": "https://localhost:8080/"
        },
        "id": "7YEfggO4KkiX",
        "outputId": "6dd6a01e-2630-4bd9-92fd-c50223543b2f"
      },
      "source": [
        "#단위행렬\r\n",
        "e1 = np.identity(2)\r\n",
        "print(e1)\r\n",
        "\r\n",
        "e2 = np.identity(3)\r\n",
        "print(e2)"
      ],
      "execution_count": null,
      "outputs": [
        {
          "output_type": "stream",
          "text": [
            "[[1. 0.]\n",
            " [0. 1.]]\n",
            "[[1. 0. 0.]\n",
            " [0. 1. 0.]\n",
            " [0. 0. 1.]]\n"
          ],
          "name": "stdout"
        }
      ]
    },
    {
      "cell_type": "code",
      "metadata": {
        "colab": {
          "base_uri": "https://localhost:8080/"
        },
        "id": "XLF77FwCK4Wm",
        "outputId": "93b8e872-a1c0-4fc9-bd1c-7d2a7313d406"
      },
      "source": [
        "#행렬 인덱싱 - 행렬에서 내가 원하는 성분을 출력한다\r\n",
        "mat = np.array([[1, 2, 3, 4], [5, 6, 7, 8], [9, 10, 11, 12]])\r\n",
        "print(mat)\r\n",
        "\r\n",
        "\r\n",
        "print(mat[0, 0])\r\n",
        "print(mat[0, :])\r\n",
        "print(mat[:, 0])\r\n",
        "\r\n",
        "print(mat[0:2, 0:2])\r\n",
        "print(mat[:, 0:2])\r\n",
        "print(mat[:, 2:4])\r\n",
        "print(mat[1:3, 1:3])"
      ],
      "execution_count": null,
      "outputs": [
        {
          "output_type": "stream",
          "text": [
            "[[ 1  2  3  4]\n",
            " [ 5  6  7  8]\n",
            " [ 9 10 11 12]]\n",
            "1\n",
            "[1 2 3 4]\n",
            "[1 5 9]\n",
            "[[1 2]\n",
            " [5 6]]\n",
            "[[ 1  2]\n",
            " [ 5  6]\n",
            " [ 9 10]]\n",
            "[[ 3  4]\n",
            " [ 7  8]\n",
            " [11 12]]\n",
            "[[ 6  7]\n",
            " [10 11]]\n"
          ],
          "name": "stdout"
        }
      ]
    },
    {
      "cell_type": "code",
      "metadata": {
        "id": "_rw-1jpTLW3W"
      },
      "source": [
        ""
      ],
      "execution_count": null,
      "outputs": []
    }
  ]
}