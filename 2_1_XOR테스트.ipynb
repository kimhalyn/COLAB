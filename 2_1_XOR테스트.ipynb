{
  "nbformat": 4,
  "nbformat_minor": 0,
  "metadata": {
    "colab": {
      "name": "2_1.XOR테스트.ipynb",
      "provenance": [],
      "collapsed_sections": [],
      "mount_file_id": "1mOyd-nRviszRy5x6SyXg9tvCUEVzbSRN",
      "authorship_tag": "ABX9TyN6TYZRQdb370CIiv1zkEQh",
      "include_colab_link": true
    },
    "kernelspec": {
      "name": "python3",
      "display_name": "Python 3"
    }
  },
  "cells": [
    {
      "cell_type": "markdown",
      "metadata": {
        "id": "view-in-github",
        "colab_type": "text"
      },
      "source": [
        "<a href=\"https://colab.research.google.com/github/kimhalyn/COLAB/blob/main/2_1_XOR%ED%85%8C%EC%8A%A4%ED%8A%B8.ipynb\" target=\"_parent\"><img src=\"https://colab.research.google.com/assets/colab-badge.svg\" alt=\"Open In Colab\"/></a>"
      ]
    },
    {
      "cell_type": "code",
      "metadata": {
        "colab": {
          "base_uri": "https://localhost:8080/",
          "height": 35
        },
        "id": "2MXGPHAbQtn9",
        "outputId": "55a3de65-e438-49a6-b4e8-a7df5d76994b"
      },
      "source": [
        "\"\"\"\n",
        "날짜 : 2021/02/02\n",
        "이름 : 김하린\n",
        "내용 : 머신러닝 XOR 실습하기\n",
        "\"\"\""
      ],
      "execution_count": null,
      "outputs": [
        {
          "output_type": "execute_result",
          "data": {
            "application/vnd.google.colaboratory.intrinsic+json": {
              "type": "string"
            },
            "text/plain": [
              "'\\n날짜 : 2021/02/02\\n이름 : 김하린\\n내용 : 머신러닝 XOR 실습하기\\n'"
            ]
          },
          "metadata": {
            "tags": []
          },
          "execution_count": 1
        }
      ]
    },
    {
      "cell_type": "code",
      "metadata": {
        "id": "nnlOsASrQ-X7"
      },
      "source": [
        "#패키지 추가\n",
        "from sklearn import svm"
      ],
      "execution_count": null,
      "outputs": []
    },
    {
      "cell_type": "code",
      "metadata": {
        "id": "XW8dfPWpRjN7"
      },
      "source": [
        "#학습데이터, 학습라벨 준비\n",
        "train_data = [[0, 0], [0, 1], [1, 0], [1, 1]]\n",
        "train_label = [0, 1, 1, 0]"
      ],
      "execution_count": null,
      "outputs": []
    },
    {
      "cell_type": "code",
      "metadata": {
        "colab": {
          "base_uri": "https://localhost:8080/"
        },
        "id": "-i-zhqBlRmOt",
        "outputId": "d8eeed2f-a67b-4675-a449-062ae7653573"
      },
      "source": [
        "#학습하기\n",
        "model = svm.SVC()\n",
        "model.fit(train_data, train_label)"
      ],
      "execution_count": null,
      "outputs": [
        {
          "output_type": "execute_result",
          "data": {
            "text/plain": [
              "SVC(C=1.0, break_ties=False, cache_size=200, class_weight=None, coef0=0.0,\n",
              "    decision_function_shape='ovr', degree=3, gamma='scale', kernel='rbf',\n",
              "    max_iter=-1, probability=False, random_state=None, shrinking=True,\n",
              "    tol=0.001, verbose=False)"
            ]
          },
          "metadata": {
            "tags": []
          },
          "execution_count": 16
        }
      ]
    },
    {
      "cell_type": "code",
      "metadata": {
        "colab": {
          "base_uri": "https://localhost:8080/"
        },
        "id": "wpWnsE6_RzYE",
        "outputId": "dc59db9b-f9ec-4ee4-8399-2f77f6d4f014"
      },
      "source": [
        "#검증하기\n",
        "test_data = [[1, 1], [1, 0], [0, 0]]\n",
        "result = model.predict(test_data)\n",
        "result"
      ],
      "execution_count": null,
      "outputs": [
        {
          "output_type": "execute_result",
          "data": {
            "text/plain": [
              "array([0, 1, 0])"
            ]
          },
          "metadata": {
            "tags": []
          },
          "execution_count": 17
        }
      ]
    },
    {
      "cell_type": "code",
      "metadata": {
        "id": "ZUTF4ILbSSLS"
      },
      "source": [
        ""
      ],
      "execution_count": null,
      "outputs": []
    }
  ]
}