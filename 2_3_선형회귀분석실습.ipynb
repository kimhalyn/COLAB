{
  "nbformat": 4,
  "nbformat_minor": 0,
  "metadata": {
    "colab": {
      "name": "2_3.선형회귀분석실습.ipynb",
      "provenance": [],
      "collapsed_sections": [],
      "authorship_tag": "ABX9TyO9Z8f6O4Cmk7PhRIlGnfIU",
      "include_colab_link": true
    },
    "kernelspec": {
      "name": "python3",
      "display_name": "Python 3"
    }
  },
  "cells": [
    {
      "cell_type": "markdown",
      "metadata": {
        "id": "view-in-github",
        "colab_type": "text"
      },
      "source": [
        "<a href=\"https://colab.research.google.com/github/kimhalyn/COLAB/blob/main/2_3_%EC%84%A0%ED%98%95%ED%9A%8C%EA%B7%80%EB%B6%84%EC%84%9D%EC%8B%A4%EC%8A%B5.ipynb\" target=\"_parent\"><img src=\"https://colab.research.google.com/assets/colab-badge.svg\" alt=\"Open In Colab\"/></a>"
      ]
    },
    {
      "cell_type": "code",
      "metadata": {
        "colab": {
          "base_uri": "https://localhost:8080/",
          "height": 35
        },
        "id": "oOdFvL1HdRFb",
        "outputId": "27b2c20a-6237-46dd-97f9-5394b0b04a9e"
      },
      "source": [
        "\"\"\"\n",
        "날짜 : 2021/02/02\n",
        "이름 : 김하린\n",
        "내용 : 선형회귀 모델 데이터 분석 실습하기\n",
        "\"\"\""
      ],
      "execution_count": null,
      "outputs": [
        {
          "output_type": "execute_result",
          "data": {
            "application/vnd.google.colaboratory.intrinsic+json": {
              "type": "string"
            },
            "text/plain": [
              "'\\n날짜 : 2021/02/02\\n이름 : 김하린\\n내용 : 선형회귀 모델 데이터 분석 실습하기\\n'"
            ]
          },
          "metadata": {
            "tags": []
          },
          "execution_count": 1
        }
      ]
    },
    {
      "cell_type": "code",
      "metadata": {
        "id": "Npb_Geiqdd8X"
      },
      "source": [
        "from scipy import stats\n",
        "from sklearn.linear_model import  LinearRegression\n",
        "from sklearn import svm"
      ],
      "execution_count": null,
      "outputs": []
    },
    {
      "cell_type": "code",
      "metadata": {
        "id": "q330ewKSdiCN"
      },
      "source": [
        "x_data = [170, 155, 150, 175, 165]\n",
        "y_data = [65, 50, 45, 70, 55]"
      ],
      "execution_count": null,
      "outputs": []
    },
    {
      "cell_type": "code",
      "metadata": {
        "colab": {
          "base_uri": "https://localhost:8080/"
        },
        "id": "hjV3gaBIdizd",
        "outputId": "3cb2eba1-e6da-4e46-ce2e-9164a7d94115"
      },
      "source": [
        "#기울기, 절편 구하기\n",
        "slope, intercept, r, p, std = stats.linregress(x_data, y_data)\n",
        "print('기울기 : ', slope )\n",
        "print('절편 : ', intercept )"
      ],
      "execution_count": null,
      "outputs": [
        {
          "output_type": "stream",
          "text": [
            "기울기 :  0.9767441860465116\n",
            "절편 :  -102.20930232558138\n"
          ],
          "name": "stdout"
        }
      ]
    },
    {
      "cell_type": "code",
      "metadata": {
        "id": "j8zhAjZ3d6p8"
      },
      "source": [
        "#학습데이터, 학습라벨 준비\n",
        "train_data = [[170], [155], [150], [175], [165]]\n",
        "train_label = [65, 50, 45, 70, 55]"
      ],
      "execution_count": null,
      "outputs": []
    },
    {
      "cell_type": "code",
      "metadata": {
        "colab": {
          "base_uri": "https://localhost:8080/"
        },
        "id": "VldaTNTgeXpu",
        "outputId": "d2464e9d-3f89-42b8-bfc5-3b02bb3e8809"
      },
      "source": [
        "#학습하기\n",
        "model = svm.SVC()\n",
        "medel = LinearRegression()\n",
        "model.fit(train_data, train_label)"
      ],
      "execution_count": null,
      "outputs": [
        {
          "output_type": "execute_result",
          "data": {
            "text/plain": [
              "SVC(C=1.0, break_ties=False, cache_size=200, class_weight=None, coef0=0.0,\n",
              "    decision_function_shape='ovr', degree=3, gamma='scale', kernel='rbf',\n",
              "    max_iter=-1, probability=False, random_state=None, shrinking=True,\n",
              "    tol=0.001, verbose=False)"
            ]
          },
          "metadata": {
            "tags": []
          },
          "execution_count": 17
        }
      ]
    },
    {
      "cell_type": "code",
      "metadata": {
        "colab": {
          "base_uri": "https://localhost:8080/"
        },
        "id": "BoKbEz7ne9Dm",
        "outputId": "e89d8d1f-dcf5-4c89-9d3e-63a77fb2a18f"
      },
      "source": [
        "#검증하기\n",
        "test_data = [[172], [167], [182], [158], [178]]\n",
        "result = model.predict(test_data)\n",
        "result"
      ],
      "execution_count": null,
      "outputs": [
        {
          "output_type": "execute_result",
          "data": {
            "text/plain": [
              "array([65, 55, 70, 50, 70])"
            ]
          },
          "metadata": {
            "tags": []
          },
          "execution_count": 18
        }
      ]
    },
    {
      "cell_type": "code",
      "metadata": {
        "id": "jXGPe3EXe0Gk"
      },
      "source": [
        ""
      ],
      "execution_count": null,
      "outputs": []
    }
  ]
}