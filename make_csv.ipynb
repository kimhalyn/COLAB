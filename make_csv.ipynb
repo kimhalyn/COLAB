{
  "nbformat": 4,
  "nbformat_minor": 0,
  "metadata": {
    "colab": {
      "name": "make_csv.ipynb",
      "provenance": [],
      "collapsed_sections": [],
      "mount_file_id": "14_uSw95_2TxTYQYG9qqLcDqqe0-9t5bE",
      "authorship_tag": "ABX9TyP4AXSOloRvuNkRFUbGKLRv",
      "include_colab_link": true
    },
    "kernelspec": {
      "name": "python3",
      "display_name": "Python 3"
    },
    "language_info": {
      "name": "python"
    }
  },
  "cells": [
    {
      "cell_type": "markdown",
      "metadata": {
        "id": "view-in-github",
        "colab_type": "text"
      },
      "source": [
        "<a href=\"https://colab.research.google.com/github/kimhalyn/COLAB/blob/main/make_csv.ipynb\" target=\"_parent\"><img src=\"https://colab.research.google.com/assets/colab-badge.svg\" alt=\"Open In Colab\"/></a>"
      ]
    },
    {
      "cell_type": "code",
      "metadata": {
        "id": "dduzY6-T146c"
      },
      "source": [
        "import requests\n",
        "import pandas as pd"
      ],
      "execution_count": 6,
      "outputs": []
    },
    {
      "cell_type": "code",
      "metadata": {
        "id": "xk_C9iXk1bsS"
      },
      "source": [
        "res=requests.get('http://apis.data.go.kr/6260000/BusanWaterImrsnInfoService/getWaterImrsnInfo?serviceKey=jkd4PnVjssNP%2Bg2WeRzs8lgc4SOelLsncvuMr81%2F9R9nSYKkiQAcb2xt8GTYgTJSQGQ4%2BhtuRuyIXSwRXr210w%3D%3D&numOfRows=10&pageNo=1&resultType=json')\n",
        "data=res.json()\n",
        "items=data['getWaterImrsnInfo']['item']\n",
        "df_items=pd.DataFrame(items)\n",
        "df_items.to_csv('부산광역시 주요도로 침수 정보.csv' ,encoding='utf-8-sig')"
      ],
      "execution_count": 7,
      "outputs": []
    },
    {
      "cell_type": "code",
      "metadata": {
        "colab": {
          "base_uri": "https://localhost:8080/",
          "height": 359
        },
        "id": "wlhP39ZM1bWi",
        "outputId": "4e88d22a-8bd8-42c0-cb54-17815c4abe74"
      },
      "source": [
        "df_items"
      ],
      "execution_count": 8,
      "outputs": [
        {
          "output_type": "execute_result",
          "data": {
            "text/html": [
              "<div>\n",
              "<style scoped>\n",
              "    .dataframe tbody tr th:only-of-type {\n",
              "        vertical-align: middle;\n",
              "    }\n",
              "\n",
              "    .dataframe tbody tr th {\n",
              "        vertical-align: top;\n",
              "    }\n",
              "\n",
              "    .dataframe thead th {\n",
              "        text-align: right;\n",
              "    }\n",
              "</style>\n",
              "<table border=\"1\" class=\"dataframe\">\n",
              "  <thead>\n",
              "    <tr style=\"text-align: right;\">\n",
              "      <th></th>\n",
              "      <th>siteCode</th>\n",
              "      <th>siteName</th>\n",
              "      <th>alertLevel3</th>\n",
              "      <th>alertLevel3Nm</th>\n",
              "      <th>alertLevel4</th>\n",
              "      <th>alertLevel4Nm</th>\n",
              "      <th>fludLevel</th>\n",
              "      <th>obsrTime</th>\n",
              "      <th>sttus</th>\n",
              "      <th>sttusNm</th>\n",
              "    </tr>\n",
              "  </thead>\n",
              "  <tbody>\n",
              "    <tr>\n",
              "      <th>0</th>\n",
              "      <td>2617065000</td>\n",
              "      <td>범일동</td>\n",
              "      <td>40</td>\n",
              "      <td>경 계</td>\n",
              "      <td>50</td>\n",
              "      <td>위 험</td>\n",
              "      <td>0</td>\n",
              "      <td>2021-08-25 오전 8:05:14</td>\n",
              "      <td>0</td>\n",
              "      <td>정 상</td>\n",
              "    </tr>\n",
              "    <tr>\n",
              "      <th>1</th>\n",
              "      <td>2626051002</td>\n",
              "      <td>수안2</td>\n",
              "      <td>40</td>\n",
              "      <td>경 계</td>\n",
              "      <td>50</td>\n",
              "      <td>위 험</td>\n",
              "      <td>0</td>\n",
              "      <td>2021-08-25 오전 8:05:00</td>\n",
              "      <td>0</td>\n",
              "      <td>정 상</td>\n",
              "    </tr>\n",
              "    <tr>\n",
              "      <th>2</th>\n",
              "      <td>2626053001</td>\n",
              "      <td>명륜1</td>\n",
              "      <td>40</td>\n",
              "      <td>경 계</td>\n",
              "      <td>50</td>\n",
              "      <td>위 험</td>\n",
              "      <td>0</td>\n",
              "      <td>2021-08-25 오전 8:05:00</td>\n",
              "      <td>0</td>\n",
              "      <td>정 상</td>\n",
              "    </tr>\n",
              "    <tr>\n",
              "      <th>3</th>\n",
              "      <td>2626055001</td>\n",
              "      <td>온천1</td>\n",
              "      <td>40</td>\n",
              "      <td>경 계</td>\n",
              "      <td>50</td>\n",
              "      <td>위 험</td>\n",
              "      <td>0</td>\n",
              "      <td>2021-08-25 오전 8:05:00</td>\n",
              "      <td>0</td>\n",
              "      <td>정 상</td>\n",
              "    </tr>\n",
              "    <tr>\n",
              "      <th>4</th>\n",
              "      <td>2626055004</td>\n",
              "      <td>온천4</td>\n",
              "      <td>40</td>\n",
              "      <td>경 계</td>\n",
              "      <td>50</td>\n",
              "      <td>위 험</td>\n",
              "      <td>0</td>\n",
              "      <td>2021-08-25 오전 8:05:00</td>\n",
              "      <td>0</td>\n",
              "      <td>정 상</td>\n",
              "    </tr>\n",
              "    <tr>\n",
              "      <th>5</th>\n",
              "      <td>2647065005</td>\n",
              "      <td>연제5</td>\n",
              "      <td>40</td>\n",
              "      <td>경 계</td>\n",
              "      <td>50</td>\n",
              "      <td>위 험</td>\n",
              "      <td>0</td>\n",
              "      <td>2021-08-25 오전 8:05:00</td>\n",
              "      <td>0</td>\n",
              "      <td>정 상</td>\n",
              "    </tr>\n",
              "    <tr>\n",
              "      <th>6</th>\n",
              "      <td>2629059000</td>\n",
              "      <td>용호동</td>\n",
              "      <td>40</td>\n",
              "      <td>경 계</td>\n",
              "      <td>50</td>\n",
              "      <td>위 험</td>\n",
              "      <td>1</td>\n",
              "      <td>2021-08-25 오전 8:04:52</td>\n",
              "      <td>0</td>\n",
              "      <td>정 상</td>\n",
              "    </tr>\n",
              "    <tr>\n",
              "      <th>7</th>\n",
              "      <td>2626051001</td>\n",
              "      <td>수안1</td>\n",
              "      <td>40</td>\n",
              "      <td>경 계</td>\n",
              "      <td>50</td>\n",
              "      <td>위 험</td>\n",
              "      <td>0</td>\n",
              "      <td>2021-08-25 오전 8:04:00</td>\n",
              "      <td>0</td>\n",
              "      <td>정 상</td>\n",
              "    </tr>\n",
              "    <tr>\n",
              "      <th>8</th>\n",
              "      <td>2626055002</td>\n",
              "      <td>온천2</td>\n",
              "      <td>40</td>\n",
              "      <td>경 계</td>\n",
              "      <td>50</td>\n",
              "      <td>위 험</td>\n",
              "      <td>0</td>\n",
              "      <td>2021-08-25 오전 8:04:00</td>\n",
              "      <td>0</td>\n",
              "      <td>정 상</td>\n",
              "    </tr>\n",
              "    <tr>\n",
              "      <th>9</th>\n",
              "      <td>2632055001</td>\n",
              "      <td>의성마을</td>\n",
              "      <td>40</td>\n",
              "      <td>경 계</td>\n",
              "      <td>50</td>\n",
              "      <td>위 험</td>\n",
              "      <td>0</td>\n",
              "      <td>2021-08-25 오전 8:04:00</td>\n",
              "      <td>0</td>\n",
              "      <td>정 상</td>\n",
              "    </tr>\n",
              "  </tbody>\n",
              "</table>\n",
              "</div>"
            ],
            "text/plain": [
              "     siteCode siteName alertLevel3  ...               obsrTime sttus sttusNm\n",
              "0  2617065000      범일동          40  ...  2021-08-25 오전 8:05:14     0     정 상\n",
              "1  2626051002      수안2          40  ...  2021-08-25 오전 8:05:00     0     정 상\n",
              "2  2626053001      명륜1          40  ...  2021-08-25 오전 8:05:00     0     정 상\n",
              "3  2626055001      온천1          40  ...  2021-08-25 오전 8:05:00     0     정 상\n",
              "4  2626055004      온천4          40  ...  2021-08-25 오전 8:05:00     0     정 상\n",
              "5  2647065005      연제5          40  ...  2021-08-25 오전 8:05:00     0     정 상\n",
              "6  2629059000      용호동          40  ...  2021-08-25 오전 8:04:52     0     정 상\n",
              "7  2626051001      수안1          40  ...  2021-08-25 오전 8:04:00     0     정 상\n",
              "8  2626055002      온천2          40  ...  2021-08-25 오전 8:04:00     0     정 상\n",
              "9  2632055001     의성마을          40  ...  2021-08-25 오전 8:04:00     0     정 상\n",
              "\n",
              "[10 rows x 10 columns]"
            ]
          },
          "metadata": {},
          "execution_count": 8
        }
      ]
    },
    {
      "cell_type": "code",
      "metadata": {
        "id": "GD0y35VF1Z_2"
      },
      "source": [
        "#방법2"
      ],
      "execution_count": null,
      "outputs": []
    },
    {
      "cell_type": "code",
      "metadata": {
        "id": "vQXQ9-94mvuF"
      },
      "source": [
        "import urllib.request\n",
        "import json \n",
        "import pandas as pd \n",
        "from pandas.io.json import json_normalize "
      ],
      "execution_count": null,
      "outputs": []
    },
    {
      "cell_type": "code",
      "metadata": {
        "id": "1kLtW_ITmvWF"
      },
      "source": [
        "# request url 정의\n",
        "url = 'http://apis.data.go.kr/6260000/BusanWaterImrsnInfoService/getWaterImrsnInfo?serviceKey=jkd4PnVjssNP%2Bg2WeRzs8lgc4SOelLsncvuMr81%2F9R9nSYKkiQAcb2xt8GTYgTJSQGQ4%2BhtuRuyIXSwRXr210w%3D%3D&numOfRows=10&pageNo=1&resultType=json'"
      ],
      "execution_count": null,
      "outputs": []
    },
    {
      "cell_type": "code",
      "metadata": {
        "colab": {
          "base_uri": "https://localhost:8080/"
        },
        "id": "I2oEoKCzmu5N",
        "outputId": "3f169738-5b68-481c-b58e-6d610ae01667"
      },
      "source": [
        "# url을 불러오고 이것을 인코딩을 utf-8로 전환하여 결과 받기\n",
        "response = urllib.request.urlopen(url) \n",
        "json_str = response.read().decode(\"utf-8\")\n",
        "type(json_str)"
      ],
      "execution_count": null,
      "outputs": [
        {
          "output_type": "execute_result",
          "data": {
            "text/plain": [
              "str"
            ]
          },
          "metadata": {},
          "execution_count": 46
        }
      ]
    },
    {
      "cell_type": "code",
      "metadata": {
        "colab": {
          "base_uri": "https://localhost:8080/"
        },
        "id": "owCWVq2msJMY",
        "outputId": "aa171871-2e38-4d0e-d035-5dd84aa5fb2f"
      },
      "source": [
        "# 받은 데이터가 문자열이라서 이를 json으로 변환\n",
        "json_object = json.loads(json_str)\n",
        "type(json_object)"
      ],
      "execution_count": null,
      "outputs": [
        {
          "output_type": "execute_result",
          "data": {
            "text/plain": [
              "dict"
            ]
          },
          "metadata": {},
          "execution_count": 47
        }
      ]
    },
    {
      "cell_type": "code",
      "metadata": {
        "colab": {
          "base_uri": "https://localhost:8080/"
        },
        "id": "bU0dYKEfsJhc",
        "outputId": "92b6dd3a-0f74-4e88-a7ec-860ede7924b1"
      },
      "source": [
        "# 원하는 정보 데이터프레임으로 불러오기\n",
        "#df=pd.json_normalize(json_object['getWaterImrsnInfo']['item'])\n",
        "#df.info()"
      ],
      "execution_count": null,
      "outputs": [
        {
          "output_type": "stream",
          "text": [
            "<class 'pandas.core.frame.DataFrame'>\n",
            "RangeIndex: 10 entries, 0 to 9\n",
            "Data columns (total 10 columns):\n",
            " #   Column         Non-Null Count  Dtype \n",
            "---  ------         --------------  ----- \n",
            " 0   siteCode       10 non-null     object\n",
            " 1   siteName       10 non-null     object\n",
            " 2   alertLevel3    10 non-null     object\n",
            " 3   alertLevel3Nm  10 non-null     object\n",
            " 4   alertLevel4    10 non-null     object\n",
            " 5   alertLevel4Nm  10 non-null     object\n",
            " 6   fludLevel      10 non-null     object\n",
            " 7   obsrTime       10 non-null     object\n",
            " 8   sttus          10 non-null     object\n",
            " 9   sttusNm        10 non-null     object\n",
            "dtypes: object(10)\n",
            "memory usage: 928.0+ bytes\n"
          ],
          "name": "stdout"
        }
      ]
    },
    {
      "cell_type": "code",
      "metadata": {
        "colab": {
          "base_uri": "https://localhost:8080/",
          "height": 359
        },
        "id": "MaUjJ6ESvAFY",
        "outputId": "71371031-0a8c-4f56-9a2b-2098ac9a538b"
      },
      "source": [
        "df = pd.DataFrame(json_object['getWaterImrsnInfo']['item'])\n",
        "df"
      ],
      "execution_count": null,
      "outputs": [
        {
          "output_type": "execute_result",
          "data": {
            "text/html": [
              "<div>\n",
              "<style scoped>\n",
              "    .dataframe tbody tr th:only-of-type {\n",
              "        vertical-align: middle;\n",
              "    }\n",
              "\n",
              "    .dataframe tbody tr th {\n",
              "        vertical-align: top;\n",
              "    }\n",
              "\n",
              "    .dataframe thead th {\n",
              "        text-align: right;\n",
              "    }\n",
              "</style>\n",
              "<table border=\"1\" class=\"dataframe\">\n",
              "  <thead>\n",
              "    <tr style=\"text-align: right;\">\n",
              "      <th></th>\n",
              "      <th>siteCode</th>\n",
              "      <th>siteName</th>\n",
              "      <th>alertLevel3</th>\n",
              "      <th>alertLevel3Nm</th>\n",
              "      <th>alertLevel4</th>\n",
              "      <th>alertLevel4Nm</th>\n",
              "      <th>fludLevel</th>\n",
              "      <th>obsrTime</th>\n",
              "      <th>sttus</th>\n",
              "      <th>sttusNm</th>\n",
              "    </tr>\n",
              "  </thead>\n",
              "  <tbody>\n",
              "    <tr>\n",
              "      <th>0</th>\n",
              "      <td>2617065000</td>\n",
              "      <td>범일동</td>\n",
              "      <td>40</td>\n",
              "      <td>경 계</td>\n",
              "      <td>50</td>\n",
              "      <td>위 험</td>\n",
              "      <td>0</td>\n",
              "      <td>2021-08-25 오전 8:05:14</td>\n",
              "      <td>0</td>\n",
              "      <td>정 상</td>\n",
              "    </tr>\n",
              "    <tr>\n",
              "      <th>1</th>\n",
              "      <td>2626051002</td>\n",
              "      <td>수안2</td>\n",
              "      <td>40</td>\n",
              "      <td>경 계</td>\n",
              "      <td>50</td>\n",
              "      <td>위 험</td>\n",
              "      <td>0</td>\n",
              "      <td>2021-08-25 오전 8:05:00</td>\n",
              "      <td>0</td>\n",
              "      <td>정 상</td>\n",
              "    </tr>\n",
              "    <tr>\n",
              "      <th>2</th>\n",
              "      <td>2626053001</td>\n",
              "      <td>명륜1</td>\n",
              "      <td>40</td>\n",
              "      <td>경 계</td>\n",
              "      <td>50</td>\n",
              "      <td>위 험</td>\n",
              "      <td>0</td>\n",
              "      <td>2021-08-25 오전 8:05:00</td>\n",
              "      <td>0</td>\n",
              "      <td>정 상</td>\n",
              "    </tr>\n",
              "    <tr>\n",
              "      <th>3</th>\n",
              "      <td>2626055001</td>\n",
              "      <td>온천1</td>\n",
              "      <td>40</td>\n",
              "      <td>경 계</td>\n",
              "      <td>50</td>\n",
              "      <td>위 험</td>\n",
              "      <td>0</td>\n",
              "      <td>2021-08-25 오전 8:05:00</td>\n",
              "      <td>0</td>\n",
              "      <td>정 상</td>\n",
              "    </tr>\n",
              "    <tr>\n",
              "      <th>4</th>\n",
              "      <td>2626055004</td>\n",
              "      <td>온천4</td>\n",
              "      <td>40</td>\n",
              "      <td>경 계</td>\n",
              "      <td>50</td>\n",
              "      <td>위 험</td>\n",
              "      <td>0</td>\n",
              "      <td>2021-08-25 오전 8:05:00</td>\n",
              "      <td>0</td>\n",
              "      <td>정 상</td>\n",
              "    </tr>\n",
              "    <tr>\n",
              "      <th>5</th>\n",
              "      <td>2647065005</td>\n",
              "      <td>연제5</td>\n",
              "      <td>40</td>\n",
              "      <td>경 계</td>\n",
              "      <td>50</td>\n",
              "      <td>위 험</td>\n",
              "      <td>0</td>\n",
              "      <td>2021-08-25 오전 8:05:00</td>\n",
              "      <td>0</td>\n",
              "      <td>정 상</td>\n",
              "    </tr>\n",
              "    <tr>\n",
              "      <th>6</th>\n",
              "      <td>2629059000</td>\n",
              "      <td>용호동</td>\n",
              "      <td>40</td>\n",
              "      <td>경 계</td>\n",
              "      <td>50</td>\n",
              "      <td>위 험</td>\n",
              "      <td>1</td>\n",
              "      <td>2021-08-25 오전 8:04:52</td>\n",
              "      <td>0</td>\n",
              "      <td>정 상</td>\n",
              "    </tr>\n",
              "    <tr>\n",
              "      <th>7</th>\n",
              "      <td>2626051001</td>\n",
              "      <td>수안1</td>\n",
              "      <td>40</td>\n",
              "      <td>경 계</td>\n",
              "      <td>50</td>\n",
              "      <td>위 험</td>\n",
              "      <td>0</td>\n",
              "      <td>2021-08-25 오전 8:04:00</td>\n",
              "      <td>0</td>\n",
              "      <td>정 상</td>\n",
              "    </tr>\n",
              "    <tr>\n",
              "      <th>8</th>\n",
              "      <td>2626055002</td>\n",
              "      <td>온천2</td>\n",
              "      <td>40</td>\n",
              "      <td>경 계</td>\n",
              "      <td>50</td>\n",
              "      <td>위 험</td>\n",
              "      <td>0</td>\n",
              "      <td>2021-08-25 오전 8:04:00</td>\n",
              "      <td>0</td>\n",
              "      <td>정 상</td>\n",
              "    </tr>\n",
              "    <tr>\n",
              "      <th>9</th>\n",
              "      <td>2632055001</td>\n",
              "      <td>의성마을</td>\n",
              "      <td>40</td>\n",
              "      <td>경 계</td>\n",
              "      <td>50</td>\n",
              "      <td>위 험</td>\n",
              "      <td>0</td>\n",
              "      <td>2021-08-25 오전 8:04:00</td>\n",
              "      <td>0</td>\n",
              "      <td>정 상</td>\n",
              "    </tr>\n",
              "  </tbody>\n",
              "</table>\n",
              "</div>"
            ],
            "text/plain": [
              "     siteCode siteName alertLevel3  ...               obsrTime sttus sttusNm\n",
              "0  2617065000      범일동          40  ...  2021-08-25 오전 8:05:14     0     정 상\n",
              "1  2626051002      수안2          40  ...  2021-08-25 오전 8:05:00     0     정 상\n",
              "2  2626053001      명륜1          40  ...  2021-08-25 오전 8:05:00     0     정 상\n",
              "3  2626055001      온천1          40  ...  2021-08-25 오전 8:05:00     0     정 상\n",
              "4  2626055004      온천4          40  ...  2021-08-25 오전 8:05:00     0     정 상\n",
              "5  2647065005      연제5          40  ...  2021-08-25 오전 8:05:00     0     정 상\n",
              "6  2629059000      용호동          40  ...  2021-08-25 오전 8:04:52     0     정 상\n",
              "7  2626051001      수안1          40  ...  2021-08-25 오전 8:04:00     0     정 상\n",
              "8  2626055002      온천2          40  ...  2021-08-25 오전 8:04:00     0     정 상\n",
              "9  2632055001     의성마을          40  ...  2021-08-25 오전 8:04:00     0     정 상\n",
              "\n",
              "[10 rows x 10 columns]"
            ]
          },
          "metadata": {},
          "execution_count": 52
        }
      ]
    },
    {
      "cell_type": "code",
      "metadata": {
        "id": "Lht9dke4sJ1c"
      },
      "source": [
        "# csv 파일로 저장하기\n",
        "df.to_csv('부산광역시 주요도로 침수 정보.csv', encoding='utf-8-sig')"
      ],
      "execution_count": null,
      "outputs": []
    }
  ]
}