{
  "nbformat": 4,
  "nbformat_minor": 0,
  "metadata": {
    "colab": {
      "name": "2_2.경사하강법 실습.ipynb",
      "provenance": [],
      "collapsed_sections": [],
      "authorship_tag": "ABX9TyNj95JXcqK3dPoE7prWBljF",
      "include_colab_link": true
    },
    "kernelspec": {
      "name": "python3",
      "display_name": "Python 3"
    }
  },
  "cells": [
    {
      "cell_type": "markdown",
      "metadata": {
        "id": "view-in-github",
        "colab_type": "text"
      },
      "source": [
        "<a href=\"https://colab.research.google.com/github/kimhalyn/COLAB/blob/main/2_2_%EA%B2%BD%EC%82%AC%ED%95%98%EA%B0%95%EB%B2%95_%EC%8B%A4%EC%8A%B5.ipynb\" target=\"_parent\"><img src=\"https://colab.research.google.com/assets/colab-badge.svg\" alt=\"Open In Colab\"/></a>"
      ]
    },
    {
      "cell_type": "code",
      "metadata": {
        "colab": {
          "base_uri": "https://localhost:8080/",
          "height": 35
        },
        "id": "uXfk5pxiVzIJ",
        "outputId": "5fd93f36-29f9-4f8e-dde6-e3171a9c33f0"
      },
      "source": [
        "\"\"\"\n",
        "날짜 : 2021/02/02\n",
        "이름 : 김하린\n",
        "내용 : 경사하강법으로 선형회귀모델 직선방정식(회귀선) 구하기\n",
        "\"\"\""
      ],
      "execution_count": null,
      "outputs": [
        {
          "output_type": "execute_result",
          "data": {
            "application/vnd.google.colaboratory.intrinsic+json": {
              "type": "string"
            },
            "text/plain": [
              "'\\n날짜 : 2021/02/02\\n이름 : 김하린\\n내용 : 경사하강법으로 선형회귀모델 직선방정식(회귀선) 구하기\\n'"
            ]
          },
          "metadata": {
            "tags": []
          },
          "execution_count": 1
        }
      ]
    },
    {
      "cell_type": "code",
      "metadata": {
        "id": "8PCkBoNSV84p"
      },
      "source": [
        "x_data = [170, 155, 150, 175, 165]\n",
        "y_data = [65, 50, 45, 70, 55]"
      ],
      "execution_count": null,
      "outputs": []
    },
    {
      "cell_type": "code",
      "metadata": {
        "id": "8XaHcU4BWMs4"
      },
      "source": [
        "a = 0\n",
        "b = 0\n",
        "eta = 0.0000075 #하강률"
      ],
      "execution_count": null,
      "outputs": []
    },
    {
      "cell_type": "code",
      "metadata": {
        "colab": {
          "base_uri": "https://localhost:8080/",
          "height": 244
        },
        "id": "Vn5IfmRNWfEo",
        "outputId": "fc8c254b-1655-4d89-c86d-2d3d1faf297a"
      },
      "source": [
        "while True:\n",
        "  new_a = a - eta * (x_data[0] * 2 * (a * x_data[0] + b - y_data[0])+\n",
        "                     x_data[1] * 2 * (a * x_data[1] + b - y_data[1])+\n",
        "                     x_data[2] * 2 * (a * x_data[2] + b - y_data[2])+\n",
        "                     x_data[3] * 2 * (a * x_data[3] + b - y_data[3])+\n",
        "                     x_data[4] * 2 * (a * x_data[4] + b - y_data[4]))\n",
        "  \n",
        "  new_b = b -eta * (2 * b + 2 * (x_data[0] * a - y_data[0])+\n",
        "                    2 * b + 2 * (x_data[1] * a - y_data[1])+\n",
        "                    2 * b + 2 * (x_data[2] * a - y_data[2])+\n",
        "                    2 * b + 2 * (x_data[3] * a - y_data[3])+\n",
        "                    2 * b + 2 * (x_data[4] * a - y_data[4]))\n",
        "  \n",
        "  if a == new_a:\n",
        "    break\n",
        "\n",
        "    a = new_a\n",
        "    b = new_b\n",
        "\n",
        "    print('a : %,12f, b : %,12f' %(a, b))\n",
        "\n",
        "    print('a(기울기) : ' ,a)\n",
        "    print('b(편향값) : ' ,b)"
      ],
      "execution_count": null,
      "outputs": [
        {
          "output_type": "error",
          "ename": "KeyboardInterrupt",
          "evalue": "ignored",
          "traceback": [
            "\u001b[0;31m---------------------------------------------------------------------------\u001b[0m",
            "\u001b[0;31mKeyboardInterrupt\u001b[0m                         Traceback (most recent call last)",
            "\u001b[0;32m<ipython-input-9-9d7d39b04586>\u001b[0m in \u001b[0;36m<module>\u001b[0;34m()\u001b[0m\n\u001b[1;32m     10\u001b[0m                     \u001b[0;36m2\u001b[0m \u001b[0;34m*\u001b[0m \u001b[0mb\u001b[0m \u001b[0;34m+\u001b[0m \u001b[0;36m2\u001b[0m \u001b[0;34m*\u001b[0m \u001b[0;34m(\u001b[0m\u001b[0mx_data\u001b[0m\u001b[0;34m[\u001b[0m\u001b[0;36m2\u001b[0m\u001b[0;34m]\u001b[0m \u001b[0;34m*\u001b[0m \u001b[0ma\u001b[0m \u001b[0;34m-\u001b[0m \u001b[0my_data\u001b[0m\u001b[0;34m[\u001b[0m\u001b[0;36m2\u001b[0m\u001b[0;34m]\u001b[0m\u001b[0;34m)\u001b[0m\u001b[0;34m+\u001b[0m\u001b[0;34m\u001b[0m\u001b[0;34m\u001b[0m\u001b[0m\n\u001b[1;32m     11\u001b[0m                     \u001b[0;36m2\u001b[0m \u001b[0;34m*\u001b[0m \u001b[0mb\u001b[0m \u001b[0;34m+\u001b[0m \u001b[0;36m2\u001b[0m \u001b[0;34m*\u001b[0m \u001b[0;34m(\u001b[0m\u001b[0mx_data\u001b[0m\u001b[0;34m[\u001b[0m\u001b[0;36m3\u001b[0m\u001b[0;34m]\u001b[0m \u001b[0;34m*\u001b[0m \u001b[0ma\u001b[0m \u001b[0;34m-\u001b[0m \u001b[0my_data\u001b[0m\u001b[0;34m[\u001b[0m\u001b[0;36m3\u001b[0m\u001b[0;34m]\u001b[0m\u001b[0;34m)\u001b[0m\u001b[0;34m+\u001b[0m\u001b[0;34m\u001b[0m\u001b[0;34m\u001b[0m\u001b[0m\n\u001b[0;32m---> 12\u001b[0;31m                     2 * b + 2 * (x_data[4] * a - y_data[4]))\n\u001b[0m\u001b[1;32m     13\u001b[0m \u001b[0;34m\u001b[0m\u001b[0m\n\u001b[1;32m     14\u001b[0m   \u001b[0;32mif\u001b[0m \u001b[0ma\u001b[0m \u001b[0;34m==\u001b[0m \u001b[0mnew_a\u001b[0m\u001b[0;34m:\u001b[0m\u001b[0;34m\u001b[0m\u001b[0;34m\u001b[0m\u001b[0m\n",
            "\u001b[0;31mKeyboardInterrupt\u001b[0m: "
          ]
        }
      ]
    },
    {
      "cell_type": "code",
      "metadata": {
        "id": "S4i4x3DgWrlx"
      },
      "source": [
        ""
      ],
      "execution_count": null,
      "outputs": []
    }
  ]
}